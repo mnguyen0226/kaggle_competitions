{
  "nbformat": 4,
  "nbformat_minor": 0,
  "metadata": {
    "colab": {
      "name": "housing_prices_competition.ipynb",
      "provenance": [],
      "collapsed_sections": []
    },
    "kernelspec": {
      "name": "python3",
      "display_name": "Python 3"
    },
    "language_info": {
      "name": "python"
    }
  },
  "cells": [
    {
      "cell_type": "markdown",
      "metadata": {
        "id": "cza3TD2MaxOS"
      },
      "source": [
        "# Housing Prices Competition - Supervised Learning\n",
        "- Description: Ask a home buyer to describe their dream house, and they probably won't begin with the height of the basement ceiling or the proximity to an east-west railroad. But this playground competition's dataset proves that much more influences price negotiations than the number of bedrooms or a white-picket fence. With 79 explanatory variables describing (almost) every aspect of residential homes in Ames, Iowa, this competition challenges you to predict the final price of each home.\n",
        "- Link: https://www.kaggle.com/c/home-data-for-ml-course\n",
        "- Tools: sklearn, pandas"
      ]
    },
    {
      "cell_type": "code",
      "metadata": {
        "colab": {
          "base_uri": "https://localhost:8080/"
        },
        "id": "ml2Hk7ExYlqx",
        "outputId": "20835735-3ae6-4653-cd95-d126cfc7dd2f"
      },
      "source": [
        "# Mount google drive to this notebook\n",
        "from google.colab import drive\n",
        "drive.mount('/content/drive')\n",
        "\n",
        "# Change dir\n",
        "import os\n",
        "os.chdir('/content/drive/MyDrive/Senior/Kaggle/Courses/Intermediate ML')"
      ],
      "execution_count": 1,
      "outputs": [
        {
          "output_type": "stream",
          "name": "stdout",
          "text": [
            "Drive already mounted at /content/drive; to attempt to forcibly remount, call drive.mount(\"/content/drive\", force_remount=True).\n"
          ]
        }
      ]
    },
    {
      "cell_type": "code",
      "metadata": {
        "id": "hYPxzScdY7JN"
      },
      "source": [
        "import pandas as pd\n",
        "from sklearn.model_selection import train_test_split\n",
        "\n",
        "# Read data\n",
        "X_full = pd.read_csv('train.csv', index_col = 'Id')\n",
        "X_test_full = pd.read_csv('test.csv', index_col = 'Id')\n",
        "\n",
        "# Obtain target and predictions\n",
        "y = X_full.SalePrice\n",
        "selected_features = ['LotArea', 'YearBuilt', '1stFlrSF', '2ndFlrSF', 'FullBath', 'BedroomAbvGr', 'TotRmsAbvGrd']\n",
        "X = X_full[selected_features].copy() # make selected features into training features\n",
        "X_test = X_test_full[selected_features].copy()\n",
        "\n",
        "# Split dataset intro trainning and testing data set\n",
        "X_train, X_valid, y_train, y_valid = train_test_split(X, y, train_size = 0.8, test_size = 0.2, random_state = 0)"
      ],
      "execution_count": 2,
      "outputs": []
    },
    {
      "cell_type": "code",
      "metadata": {
        "colab": {
          "base_uri": "https://localhost:8080/",
          "height": 237
        },
        "id": "7czPMuFmb9LJ",
        "outputId": "db432bed-2964-4c00-a73d-83e483b628ad"
      },
      "source": [
        "# Visualize the training data\n",
        "X_train.head()"
      ],
      "execution_count": 3,
      "outputs": [
        {
          "output_type": "execute_result",
          "data": {
            "text/html": [
              "<div>\n",
              "<style scoped>\n",
              "    .dataframe tbody tr th:only-of-type {\n",
              "        vertical-align: middle;\n",
              "    }\n",
              "\n",
              "    .dataframe tbody tr th {\n",
              "        vertical-align: top;\n",
              "    }\n",
              "\n",
              "    .dataframe thead th {\n",
              "        text-align: right;\n",
              "    }\n",
              "</style>\n",
              "<table border=\"1\" class=\"dataframe\">\n",
              "  <thead>\n",
              "    <tr style=\"text-align: right;\">\n",
              "      <th></th>\n",
              "      <th>LotArea</th>\n",
              "      <th>YearBuilt</th>\n",
              "      <th>1stFlrSF</th>\n",
              "      <th>2ndFlrSF</th>\n",
              "      <th>FullBath</th>\n",
              "      <th>BedroomAbvGr</th>\n",
              "      <th>TotRmsAbvGrd</th>\n",
              "    </tr>\n",
              "    <tr>\n",
              "      <th>Id</th>\n",
              "      <th></th>\n",
              "      <th></th>\n",
              "      <th></th>\n",
              "      <th></th>\n",
              "      <th></th>\n",
              "      <th></th>\n",
              "      <th></th>\n",
              "    </tr>\n",
              "  </thead>\n",
              "  <tbody>\n",
              "    <tr>\n",
              "      <th>619</th>\n",
              "      <td>11694</td>\n",
              "      <td>2007</td>\n",
              "      <td>1828</td>\n",
              "      <td>0</td>\n",
              "      <td>2</td>\n",
              "      <td>3</td>\n",
              "      <td>9</td>\n",
              "    </tr>\n",
              "    <tr>\n",
              "      <th>871</th>\n",
              "      <td>6600</td>\n",
              "      <td>1962</td>\n",
              "      <td>894</td>\n",
              "      <td>0</td>\n",
              "      <td>1</td>\n",
              "      <td>2</td>\n",
              "      <td>5</td>\n",
              "    </tr>\n",
              "    <tr>\n",
              "      <th>93</th>\n",
              "      <td>13360</td>\n",
              "      <td>1921</td>\n",
              "      <td>964</td>\n",
              "      <td>0</td>\n",
              "      <td>1</td>\n",
              "      <td>2</td>\n",
              "      <td>5</td>\n",
              "    </tr>\n",
              "    <tr>\n",
              "      <th>818</th>\n",
              "      <td>13265</td>\n",
              "      <td>2002</td>\n",
              "      <td>1689</td>\n",
              "      <td>0</td>\n",
              "      <td>2</td>\n",
              "      <td>3</td>\n",
              "      <td>7</td>\n",
              "    </tr>\n",
              "    <tr>\n",
              "      <th>303</th>\n",
              "      <td>13704</td>\n",
              "      <td>2001</td>\n",
              "      <td>1541</td>\n",
              "      <td>0</td>\n",
              "      <td>2</td>\n",
              "      <td>3</td>\n",
              "      <td>6</td>\n",
              "    </tr>\n",
              "  </tbody>\n",
              "</table>\n",
              "</div>"
            ],
            "text/plain": [
              "     LotArea  YearBuilt  1stFlrSF  ...  FullBath  BedroomAbvGr  TotRmsAbvGrd\n",
              "Id                                 ...                                      \n",
              "619    11694       2007      1828  ...         2             3             9\n",
              "871     6600       1962       894  ...         1             2             5\n",
              "93     13360       1921       964  ...         1             2             5\n",
              "818    13265       2002      1689  ...         2             3             7\n",
              "303    13704       2001      1541  ...         2             3             6\n",
              "\n",
              "[5 rows x 7 columns]"
            ]
          },
          "metadata": {},
          "execution_count": 3
        }
      ]
    },
    {
      "cell_type": "code",
      "metadata": {
        "id": "wEK3cPn_cpgc"
      },
      "source": [
        "# Create 5 Random Forrest models to train and pick the highest performance\n",
        "from sklearn.ensemble import RandomForestRegressor\n",
        "\n",
        "model_1 = RandomForestRegressor(n_estimators = 50, random_state = 0)\n",
        "model_2 = RandomForestRegressor(n_estimators = 100, random_state = 0)\n",
        "model_3 = RandomForestRegressor(n_estimators = 100, criterion = 'mae', random_state = 0)\n",
        "model_4 = RandomForestRegressor(n_estimators = 200, min_samples_split = 20, random_state = 0)\n",
        "model_5 = RandomForestRegressor(n_estimators = 100, max_depth = 7, random_state = 0)\n",
        "\n",
        "models = [model_1, model_2, model_3, model_4, model_5]"
      ],
      "execution_count": 4,
      "outputs": []
    },
    {
      "cell_type": "code",
      "metadata": {
        "colab": {
          "base_uri": "https://localhost:8080/"
        },
        "id": "3-OoZKubdjvK",
        "outputId": "81dfc0e7-4f73-41bb-da99-83f79921f80c"
      },
      "source": [
        "# Check the Mean Absolute Errors of each models\n",
        "from sklearn.metrics import mean_absolute_error\n",
        "\n",
        "# Helper function calculate the MAE of a model based on training dataset\n",
        "def score_model(model, X_t = X_train, X_v = X_valid, y_t = y_train, y_v = y_valid):\n",
        "  model.fit(X_t, y_t) # train model\n",
        "  preds = model.predict(X_v)\n",
        "  return mean_absolute_error(y_v, preds)\n",
        "\n",
        "# Calculate MAE of all five models\n",
        "for i in range(0, len(models)):\n",
        "  mae = score_model(models[i])\n",
        "  print(f\"Model {i+1} MAE: {mae}\" )"
      ],
      "execution_count": 5,
      "outputs": [
        {
          "output_type": "stream",
          "name": "stdout",
          "text": [
            "Model 1 MAE: 24015.492818003917\n",
            "Model 2 MAE: 23740.979228636657\n",
            "Model 3 MAE: 23528.78421232877\n",
            "Model 4 MAE: 23996.676789668687\n",
            "Model 5 MAE: 23706.672864217904\n"
          ]
        }
      ]
    },
    {
      "cell_type": "code",
      "metadata": {
        "id": "3Axo8hlcjy1z"
      },
      "source": [
        "# The best model is Model 3 since it got the lowest MAE\n",
        "best_model = RandomForestRegressor(n_estimators=100, criterion='mae', random_state=0)"
      ],
      "execution_count": 6,
      "outputs": []
    },
    {
      "cell_type": "code",
      "metadata": {
        "id": "z9fu9Czej89D"
      },
      "source": [
        "# Fit/train the model to the training data\n",
        "best_model.fit(X, y)\n",
        "\n",
        "# Generate test predictions\n",
        "preds_test = best_model.predict(X_test)\n",
        "\n",
        "# Save predictions in format used for the competition scoring\n",
        "output = pd.DataFrame({'Id': X_test.index, 'SalePrice': preds_test})\n",
        "output.to_csv('submission.csv', index=False)"
      ],
      "execution_count": 7,
      "outputs": []
    },
    {
      "cell_type": "code",
      "metadata": {
        "id": "SalXL8oEkali"
      },
      "source": [
        ""
      ],
      "execution_count": 7,
      "outputs": []
    }
  ]
}