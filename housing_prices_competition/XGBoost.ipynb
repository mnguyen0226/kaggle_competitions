{
  "nbformat": 4,
  "nbformat_minor": 0,
  "metadata": {
    "colab": {
      "name": "XGBoost.ipynb",
      "provenance": [],
      "collapsed_sections": []
    },
    "kernelspec": {
      "name": "python3",
      "display_name": "Python 3"
    },
    "language_info": {
      "name": "python"
    }
  },
  "cells": [
    {
      "cell_type": "markdown",
      "metadata": {
        "id": "o9AomP7s5txg"
      },
      "source": [
        "\n",
        "# Housing Prices Competition - Supervised Learning\n",
        "## Deal with missing data\n",
        "- Description: Ask a home buyer to describe their dream house, and they probably won't begin with the height of the basement ceiling or the proximity to an east-west railroad. But this playground competition's dataset proves that much more influences price negotiations than the number of bedrooms or a white-picket fence. With 79 explanatory variables describing (almost) every aspect of residential homes in Ames, Iowa, this competition challenges you to predict the final price of each home.\n",
        "- Link: https://www.kaggle.com/c/home-data-for-ml-course\n",
        "- Tools: sklearn, pandas, imputer\n"
      ]
    },
    {
      "cell_type": "code",
      "metadata": {
        "colab": {
          "base_uri": "https://localhost:8080/"
        },
        "id": "Jvu2cBok3-q6",
        "outputId": "20eb5e9b-1242-45fb-b2f3-47ab3acb30cc"
      },
      "source": [
        "# Mount google drive to this notebook\n",
        "from google.colab import drive\n",
        "drive.mount('/content/drive')\n",
        "\n",
        "# Change dir\n",
        "import os\n",
        "os.chdir('/content/drive/MyDrive/Senior/Kaggle/Courses/Intermediate ML')"
      ],
      "execution_count": 1,
      "outputs": [
        {
          "output_type": "stream",
          "name": "stdout",
          "text": [
            "Drive already mounted at /content/drive; to attempt to forcibly remount, call drive.mount(\"/content/drive\", force_remount=True).\n"
          ]
        }
      ]
    },
    {
      "cell_type": "code",
      "metadata": {
        "id": "oibzbLVL5tEt"
      },
      "source": [
        "import pandas as pd\n",
        "from sklearn.model_selection import train_test_split\n",
        "\n",
        "# Read the data\n",
        "X = pd.read_csv('train.csv', index_col='Id')\n",
        "X_test_full = pd.read_csv('test.csv', index_col='Id')\n",
        "\n",
        "# Remove rows with missing target, separate target from predictors\n",
        "X.dropna(axis=0, subset=['SalePrice'], inplace=True)\n",
        "y = X.SalePrice              \n",
        "X.drop(['SalePrice'], axis=1, inplace=True)\n",
        "\n",
        "# Break off validation set from training data\n",
        "X_train_full, X_valid_full, y_train, y_valid = train_test_split(X, y, train_size=0.8, test_size=0.2,\n",
        "                                                                random_state=0)\n",
        "\n",
        "# \"Cardinality\" means the number of unique values in a column\n",
        "# Select categorical columns with relatively low cardinality (convenient but arbitrary)\n",
        "low_cardinality_cols = [cname for cname in X_train_full.columns if X_train_full[cname].nunique() < 10 and \n",
        "                        X_train_full[cname].dtype == \"object\"]\n",
        "\n",
        "# Select numeric columns\n",
        "numeric_cols = [cname for cname in X_train_full.columns if X_train_full[cname].dtype in ['int64', 'float64']]\n",
        "\n",
        "# Keep selected columns only - fill in missing numerical data\n",
        "my_cols = low_cardinality_cols + numeric_cols\n",
        "X_train = X_train_full[my_cols].copy()\n",
        "X_valid = X_valid_full[my_cols].copy()\n",
        "X_test = X_test_full[my_cols].copy()\n",
        "\n",
        "# One-hot encode the data (to shorten the code, we use pandas) - for categorical data\n",
        "X_train = pd.get_dummies(X_train)\n",
        "X_valid = pd.get_dummies(X_valid)\n",
        "X_test = pd.get_dummies(X_test)\n",
        "X_train, X_valid = X_train.align(X_valid, join='left', axis=1)\n",
        "X_train, X_test = X_train.align(X_test, join='left', axis=1)"
      ],
      "execution_count": 2,
      "outputs": []
    },
    {
      "cell_type": "markdown",
      "metadata": {
        "id": "YmKN9aDc6I9J"
      },
      "source": [
        "## Simple Model"
      ]
    },
    {
      "cell_type": "code",
      "metadata": {
        "colab": {
          "base_uri": "https://localhost:8080/"
        },
        "id": "PnawHi0E6Fxy",
        "outputId": "41b0b03d-8a3f-4dfb-e1c4-038583110658"
      },
      "source": [
        "from xgboost import XGBRegressor\n",
        "\n",
        "# Define the model\n",
        "my_model_1 = XGBRegressor() # Your code here\n",
        "\n",
        "# Fit the model\n",
        "my_model_1.fit(X_train, y_train) # Your code here\n"
      ],
      "execution_count": 3,
      "outputs": [
        {
          "output_type": "stream",
          "name": "stdout",
          "text": [
            "[02:10:07] WARNING: /workspace/src/objective/regression_obj.cu:152: reg:linear is now deprecated in favor of reg:squarederror.\n"
          ]
        },
        {
          "output_type": "execute_result",
          "data": {
            "text/plain": [
              "XGBRegressor(base_score=0.5, booster='gbtree', colsample_bylevel=1,\n",
              "             colsample_bynode=1, colsample_bytree=1, gamma=0,\n",
              "             importance_type='gain', learning_rate=0.1, max_delta_step=0,\n",
              "             max_depth=3, min_child_weight=1, missing=None, n_estimators=100,\n",
              "             n_jobs=1, nthread=None, objective='reg:linear', random_state=0,\n",
              "             reg_alpha=0, reg_lambda=1, scale_pos_weight=1, seed=None,\n",
              "             silent=None, subsample=1, verbosity=1)"
            ]
          },
          "metadata": {},
          "execution_count": 3
        }
      ]
    },
    {
      "cell_type": "code",
      "metadata": {
        "id": "UswBF1kb6Kzl"
      },
      "source": [
        "from sklearn.metrics import mean_absolute_error\n",
        "\n",
        "# Get predictions\n",
        "predictions_1 =  my_model_1.predict(X_valid)"
      ],
      "execution_count": 4,
      "outputs": []
    },
    {
      "cell_type": "code",
      "metadata": {
        "colab": {
          "base_uri": "https://localhost:8080/"
        },
        "id": "vsxirflu6NZQ",
        "outputId": "4a5161ea-c232-4e99-ac48-73007125fe9a"
      },
      "source": [
        "# Calculate MAE\n",
        "mae_1 = mean_absolute_error(predictions_1, y_valid) # Your code here\n",
        "\n",
        "# Uncomment to print MAE\n",
        "print(\"Mean Absolute Error:\" , mae_1)\n"
      ],
      "execution_count": 5,
      "outputs": [
        {
          "output_type": "stream",
          "name": "stdout",
          "text": [
            "Mean Absolute Error: 16803.434690710616\n"
          ]
        }
      ]
    },
    {
      "cell_type": "markdown",
      "metadata": {
        "id": "OomSGeUo6SEb"
      },
      "source": [
        "## Improve Model"
      ]
    },
    {
      "cell_type": "code",
      "metadata": {
        "colab": {
          "base_uri": "https://localhost:8080/"
        },
        "id": "q2Bo97U96Qfc",
        "outputId": "5eb6de37-8513-4755-a11b-67df27445ebe"
      },
      "source": [
        "# Define the model\n",
        "my_model_2 = XGBRegressor(n_estimators=1000, learning_rate=0.05, n_jobs=4) # Your code here\n",
        "\n",
        "# Fit the model\n",
        "my_model_2.fit(X_train, y_train, \n",
        "             early_stopping_rounds=5, \n",
        "             eval_set=[(X_valid, y_valid)], \n",
        "             verbose=False) # Your code here\n",
        "\n",
        "# Get predictions\n",
        "predictions_2 = my_model_2.predict(X_valid) # Your code here\n",
        "\n",
        "# Calculate MAE\n",
        "mae_2 = mean_absolute_error(predictions_2, y_valid) # Your code here\n",
        "\n",
        "# Uncomment to print MAE\n",
        "print(\"Mean Absolute Error:\" , mae_2)\n"
      ],
      "execution_count": 6,
      "outputs": [
        {
          "output_type": "stream",
          "name": "stdout",
          "text": [
            "[02:10:08] WARNING: /workspace/src/objective/regression_obj.cu:152: reg:linear is now deprecated in favor of reg:squarederror.\n",
            "Mean Absolute Error: 16751.568760702055\n"
          ]
        }
      ]
    },
    {
      "cell_type": "code",
      "metadata": {
        "id": "0Wxy41My6VB2"
      },
      "source": [
        ""
      ],
      "execution_count": 6,
      "outputs": []
    }
  ]
}